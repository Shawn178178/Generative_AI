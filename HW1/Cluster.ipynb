{
 "cells": [
  {
   "cell_type": "markdown",
   "metadata": {
    "id": "-VnV2QWH2j8c"
   },
   "source": [
    "# Cluster in Python\n",
    "在此我們要示範如何使用Python進行分群法的實作\n"
   ]
  },
  {
   "cell_type": "markdown",
   "metadata": {
    "id": "0SDRCdfP2sYD"
   },
   "source": [
    "## Data Preparing\n",
    "\n",
    "跟Weka不同的是，鳶尾花資料集已經存在於Weka的預設資料集當中\n",
    "\n",
    "而使用Python自行操作的時候，則需要自己下載鳶尾花資料集\n"
   ]
  },
  {
   "cell_type": "code",
   "execution_count": null,
   "metadata": {},
   "outputs": [],
   "source": [
    "import pandas as pd\n",
    "from sklearn import datasets, cluster, metrics, preprocessing"
   ]
  },
  {
   "cell_type": "code",
   "execution_count": null,
   "metadata": {
    "colab": {
     "base_uri": "https://localhost:8080/"
    },
    "executionInfo": {
     "elapsed": 24,
     "status": "ok",
     "timestamp": 1700647834291,
     "user": {
      "displayName": "王孟萱",
      "userId": "07007407098915687320"
     },
     "user_tz": -480
    },
    "id": "uWquT7g_3LX1",
    "outputId": "88ef1a97-b2aa-4f69-d619-f849656000a9"
   },
   "outputs": [],
   "source": [
    "import pandas as pd\n",
    "\n",
    "# fetch dataset\n",
    "# iris = fetch_ucirepo(id=53)\n",
    "\n",
    "# data (as pandas dataframes)\n",
    "row_data=pd.read_csv('winequality-red.csv')\n",
    "row_data=pd.DataFrame(row_data)\n",
    "X = row_data.iloc[:, :11+1]\n",
    "y= row_data[['quality category']]\n"
   ]
  },
  {
   "cell_type": "code",
   "execution_count": null,
   "metadata": {},
   "outputs": [],
   "source": [
    "le = preprocessing.LabelEncoder()\n",
    "class_ls = le.fit_transform(y['quality category'])\n",
    "\n",
    "new_y = pd.DataFrame(class_ls, columns = ['quality category'])\n",
    "new_y"
   ]
  },
  {
   "cell_type": "markdown",
   "metadata": {
    "id": "PVkIUKJ72vS8"
   },
   "source": [
    "## Model Training\n",
    "\n",
    "資料準備完成後，進行k-means分群"
   ]
  },
  {
   "cell_type": "code",
   "execution_count": null,
   "metadata": {
    "colab": {
     "base_uri": "https://localhost:8080/",
     "height": 129
    },
    "executionInfo": {
     "elapsed": 21,
     "status": "ok",
     "timestamp": 1700647834294,
     "user": {
      "displayName": "王孟萱",
      "userId": "07007407098915687320"
     },
     "user_tz": -480
    },
    "id": "ld5O0DD52_hr",
    "outputId": "a8ba3551-8210-47d5-f9ac-97399eeecd48"
   },
   "outputs": [],
   "source": [
    "km = cluster.KMeans(n_clusters=3, init='k-means++')\n",
    "km.fit(X)"
   ]
  },
  {
   "cell_type": "code",
   "execution_count": 28,
   "metadata": {
    "colab": {
     "base_uri": "https://localhost:8080/"
    },
    "executionInfo": {
     "elapsed": 18,
     "status": "ok",
     "timestamp": 1700647834294,
     "user": {
      "displayName": "王孟萱",
      "userId": "07007407098915687320"
     },
     "user_tz": -480
    },
    "id": "NnJ726p9-HXY",
    "outputId": "d0dbbe16-8098-4bf6-d8a0-b739f9aaa921"
   },
   "outputs": [
    {
     "data": {
      "text/plain": [
       "array([0, 2, 2, ..., 2, 2, 2])"
      ]
     },
     "execution_count": 28,
     "metadata": {},
     "output_type": "execute_result"
    }
   ],
   "source": [
    "km.labels_"
   ]
  },
  {
   "cell_type": "code",
   "execution_count": null,
   "metadata": {
    "colab": {
     "base_uri": "https://localhost:8080/"
    },
    "executionInfo": {
     "elapsed": 589,
     "status": "ok",
     "timestamp": 1700647834866,
     "user": {
      "displayName": "王孟萱",
      "userId": "07007407098915687320"
     },
     "user_tz": -480
    },
    "id": "WKlOZV8K1sKa",
    "outputId": "3ffbfb26-339a-4a6d-8f54-c29807f37404"
   },
   "outputs": [],
   "source": [
    "new_y['quality category'].to_numpy()"
   ]
  },
  {
   "cell_type": "markdown",
   "metadata": {
    "id": "ZvALyTlz1-PH"
   },
   "source": [
    "## Visualization\n",
    "將分群結果以視覺化方式呈現"
   ]
  },
  {
   "cell_type": "code",
   "execution_count": null,
   "metadata": {
    "executionInfo": {
     "elapsed": 8,
     "status": "ok",
     "timestamp": 1700647834866,
     "user": {
      "displayName": "王孟萱",
      "userId": "07007407098915687320"
     },
     "user_tz": -480
    },
    "id": "eYWa3VCGplH3"
   },
   "outputs": [],
   "source": [
    "# import 繪圖model\n",
    "import seaborn as sns\n",
    "import matplotlib.pyplot as plt"
   ]
  },
  {
   "cell_type": "code",
   "execution_count": null,
   "metadata": {
    "colab": {
     "base_uri": "https://localhost:8080/"
    },
    "executionInfo": {
     "elapsed": 8,
     "status": "ok",
     "timestamp": 1700647834866,
     "user": {
      "displayName": "王孟萱",
      "userId": "07007407098915687320"
     },
     "user_tz": -480
    },
    "id": "B6vgBZJa2Jkf",
    "outputId": "906a3f63-da01-4c08-c25f-d337e55a43b1"
   },
   "outputs": [],
   "source": [
    "np_wine_X = X.to_numpy()\n",
    "np_wine_X"
   ]
  },
  {
   "cell_type": "code",
   "execution_count": null,
   "metadata": {},
   "outputs": [],
   "source": [
    "np_wine_X[:, 11]"
   ]
  },
  {
   "cell_type": "code",
   "execution_count": null,
   "metadata": {},
   "outputs": [
    {
     "data": {
      "text/plain": [
       "0       0\n",
       "1       0\n",
       "2       0\n",
       "3       0\n",
       "4       0\n",
       "       ..\n",
       "1594    0\n",
       "1595    0\n",
       "1596    0\n",
       "1597    0\n",
       "1598    0\n",
       "Name: quality category, Length: 1599, dtype: int32"
      ]
     },
     "execution_count": 33,
     "metadata": {},
     "output_type": "execute_result"
    }
   ],
   "source": [
    "new_y['quality category']"
   ]
  },
  {
   "cell_type": "code",
   "execution_count": null,
   "metadata": {
    "colab": {
     "base_uri": "https://localhost:8080/",
     "height": 581
    },
    "executionInfo": {
     "elapsed": 527,
     "status": "ok",
     "timestamp": 1700647835387,
     "user": {
      "displayName": "王孟萱",
      "userId": "07007407098915687320"
     },
     "user_tz": -480
    },
    "id": "D7zcQh_62Wef",
    "outputId": "ee21b58c-990d-4313-81f5-85188d6d1b0f"
   },
   "outputs": [],
   "source": [
    "# plt.subplots(橫列數量, 直行數量)\n",
    "# sharey=True 共享y軸\n",
    "f, axes = plt.subplots(1, 2, sharey=True, figsize=(14,6))\n",
    "axes[0].set_title('K-Means')\n",
    "# 選擇petal length/petal width兩個維度來畫點狀分布圖\n",
    "axes[0].scatter(np_wine_X[:,0 ], np_wine_X[:, 11], c=km.labels_, cmap='viridis')\n",
    "axes[0].set_xlabel('x')\n",
    "axes[0].set_ylabel('y')\n",
    "\n",
    "axes[1].set_title('Original')\n",
    "axes[1].scatter(np_wine_X[:, 0], np_wine_X[:, 11], c=new_y['quality category'], cmap='viridis')\n",
    "axes[1].set_xlabel('x')\n",
    "axes[1].set_ylabel('y')"
   ]
  },
  {
   "cell_type": "code",
   "execution_count": null,
   "metadata": {},
   "outputs": [],
   "source": [
    "axes[0].scatter()"
   ]
  },
  {
   "cell_type": "markdown",
   "metadata": {
    "id": "i_CmFoqy2vYE"
   },
   "source": [
    "## Evaluation\n",
    "評估模型分群成效"
   ]
  },
  {
   "cell_type": "code",
   "execution_count": null,
   "metadata": {
    "colab": {
     "base_uri": "https://localhost:8080/"
    },
    "executionInfo": {
     "elapsed": 9,
     "status": "ok",
     "timestamp": 1700647835387,
     "user": {
      "displayName": "王孟萱",
      "userId": "07007407098915687320"
     },
     "user_tz": -480
    },
    "id": "E-MOXZZSong6",
    "outputId": "d936419d-67ca-4074-8f86-156a1df427a7"
   },
   "outputs": [],
   "source": [
    "# 此數值越接近1，表示群內差異小、且不同分群之間的差異大 => 好的分群\n",
    "# 此數值越接近0，表示群內差異大、且不同分群之間的差異小 => 壞的分群\n",
    "metrics.silhouette_score(X, km.labels_)"
   ]
  },
  {
   "cell_type": "code",
   "execution_count": null,
   "metadata": {
    "executionInfo": {
     "elapsed": 7,
     "status": "ok",
     "timestamp": 1700647835387,
     "user": {
      "displayName": "王孟萱",
      "userId": "07007407098915687320"
     },
     "user_tz": -480
    },
    "id": "SzAKIitw6iUG"
   },
   "outputs": [],
   "source": [
    "def get_kscore(k):\n",
    "  km = cluster.KMeans(n_clusters=k)\n",
    "  km.fit(X)\n",
    "  return metrics.silhouette_score(X, km.labels_)"
   ]
  },
  {
   "cell_type": "code",
   "execution_count": null,
   "metadata": {
    "colab": {
     "base_uri": "https://localhost:8080/",
     "height": 800
    },
    "executionInfo": {
     "elapsed": 484,
     "status": "ok",
     "timestamp": 1700647835864,
     "user": {
      "displayName": "王孟萱",
      "userId": "07007407098915687320"
     },
     "user_tz": -480
    },
    "id": "mw_NGG_m6zWJ",
    "outputId": "c5c019df-58e8-421b-c2ba-e1d9f397056c"
   },
   "outputs": [],
   "source": [
    "# 迭代找到最佳的分群數量\n",
    "for k in range(2, 11):\n",
    "  plt.bar(k, get_kscore(k),edgecolor=\"black\")\n",
    "\n",
    "plt.xlabel('n_cluster')\n",
    "plt.ylabel('kscore')"
   ]
  },
  {
   "cell_type": "code",
   "execution_count": null,
   "metadata": {},
   "outputs": [],
   "source": []
  }
 ],
 "metadata": {
  "colab": {
   "authorship_tag": "ABX9TyN0+K22v4Aiq7ERROLCmt8B",
   "provenance": []
  },
  "kernelspec": {
   "display_name": "base",
   "language": "python",
   "name": "python3"
  },
  "language_info": {
   "codemirror_mode": {
    "name": "ipython",
    "version": 3
   },
   "file_extension": ".py",
   "mimetype": "text/x-python",
   "name": "python",
   "nbconvert_exporter": "python",
   "pygments_lexer": "ipython3",
   "version": "3.12.4"
  }
 },
 "nbformat": 4,
 "nbformat_minor": 0
}
